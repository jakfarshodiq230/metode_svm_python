{
 "cells": [
  {
   "cell_type": "code",
   "execution_count": null,
   "id": "02cb0b89",
   "metadata": {},
   "outputs": [],
   "source": [
    "import pandas as pd\n",
    "import twint\n",
    "import nest_asyncio\n",
    "nest_asyncio.apply()\n",
    "c = twint.Config()\n",
    "c.Search = \"#PemilihanSerentak2020\"\n",
    "c.Limit = 100\n",
    "c.Pandas = True\n",
    "c.Hide_output= True\n",
    "twint.run.Search(c)\n",
    "twint.storage.panda.Tweets_df\n",
    "data1 = twint.storage.panda.Tweets_df"
   ]
  },
  {
   "cell_type": "code",
   "execution_count": null,
   "id": "c9496b00",
   "metadata": {},
   "outputs": [],
   "source": [
    "df=pd.DataFrame(trainData) \n",
    "df.to_excel('data1.xlsx')"
   ]
  },
  {
   "cell_type": "code",
   "execution_count": null,
   "id": "33dce568",
   "metadata": {},
   "outputs": [],
   "source": [
    "import pandas as pd\n",
    "import twint\n",
    "import nest_asyncio\n",
    "nest_asyncio.apply()\n",
    "c = twint.Config()\n",
    "c.Search = \"@PilkadaWatch\"\n",
    "c.Since = \"2020-01-01\" \n",
    "c.Until = \"2020-12-28\"\n",
    "c.Limit = 500\n",
    "c.Pandas = True\n",
    "c.Hide_output= True\n",
    "twint.run.Search(c)\n",
    "data2 = twint.storage.panda.Tweets_df"
   ]
  },
  {
   "cell_type": "code",
   "execution_count": null,
   "id": "1c438ec4",
   "metadata": {},
   "outputs": [],
   "source": [
    "df=pd.DataFrame(trainData) \n",
    "df.to_excel('data2.xlsx')"
   ]
  }
 ],
 "metadata": {
  "kernelspec": {
   "display_name": "Python 3 (ipykernel)",
   "language": "python",
   "name": "python3"
  },
  "language_info": {
   "codemirror_mode": {
    "name": "ipython",
    "version": 3
   },
   "file_extension": ".py",
   "mimetype": "text/x-python",
   "name": "python",
   "nbconvert_exporter": "python",
   "pygments_lexer": "ipython3",
   "version": "3.10.2"
  }
 },
 "nbformat": 4,
 "nbformat_minor": 5
}
