{
 "cells": [
  {
   "cell_type": "code",
   "execution_count": 20,
   "id": "2502f75e",
   "metadata": {},
   "outputs": [
    {
     "ename": "SyntaxError",
     "evalue": "invalid syntax (Temp/ipykernel_9560/3309459805.py, line 2)",
     "output_type": "error",
     "traceback": [
      "\u001b[1;36m  File \u001b[1;32m\"C:\\Users\\Acer\\AppData\\Local\\Temp/ipykernel_9560/3309459805.py\"\u001b[1;36m, line \u001b[1;32m2\u001b[0m\n\u001b[1;33m    import GetOldTweets3 sebagai mendapat\u001b[0m\n\u001b[1;37m                         ^\u001b[0m\n\u001b[1;31mSyntaxError\u001b[0m\u001b[1;31m:\u001b[0m invalid syntax\n"
     ]
    }
   ],
   "source": [
    "# Mengimpor GetOldTweets3 \n",
    "import GetOldTweets3 sebagai mendapat\n",
    "# Mengimpor panda \n",
    "mengimpor panda sebagai pd\n",
    "def get_tweets(status, tanggal mulai, tanggal akhir, maxtweet): \n",
    "    tweetCriteria = got.manager.TweetCriteria().setQuerySearch(\"Flood\")\\ \n",
    "                                            .set Since(startdate)\\ \n",
    "                                            .setUntil(enddate)\\ \n",
    "                                            .setNear(state)\\ \n",
    "                                            .setWithin( \"500mi\")\\ \n",
    "                                            .setMaxTweets(maxtweet) \n",
    "    tweet = got.manager.TweetManager.getTweets(tweetCriteria) \n",
    "    \n",
    "    text_tweets = [[tw.username, \n",
    "                tw.text, \n",
    "                tw.date, \n",
    "                tw.retweets, \n",
    "                tw.favorites,\n",
    "                tw.mentions, \n",
    "                tw.hashtags, \n",
    "                tw.geo] untuk tw di tweet ]\n",
    "    df_state= pd.DataFrame(text_tweets, kolom = ['Pengguna', 'Teks', 'Tanggal', 'Favorit', 'Retweet', 'Sebutan','Hashtag', 'Geolokasi']) \n",
    "    \n",
    "    return df_state"
   ]
  },
  {
   "cell_type": "code",
   "execution_count": 18,
   "id": "58a3c8da",
   "metadata": {},
   "outputs": [
    {
     "ename": "TypeError",
     "evalue": "get_tweets() missing 1 required positional argument: 'max_tweets'",
     "output_type": "error",
     "traceback": [
      "\u001b[1;31m---------------------------------------------------------------------------\u001b[0m",
      "\u001b[1;31mTypeError\u001b[0m                                 Traceback (most recent call last)",
      "\u001b[1;32m~\\AppData\\Local\\Temp/ipykernel_9560/2000670656.py\u001b[0m in \u001b[0;36m<module>\u001b[1;34m\u001b[0m\n\u001b[1;32m----> 1\u001b[1;33m \u001b[0mdf_1\u001b[0m \u001b[1;33m=\u001b[0m \u001b[0mget_tweets\u001b[0m\u001b[1;33m(\u001b[0m\u001b[1;34m'Wisconsin'\u001b[0m\u001b[1;33m,\u001b[0m \u001b[1;34m\"2018-07-18\"\u001b[0m\u001b[1;33m,\u001b[0m \u001b[1;34m\"2019-07-20\"\u001b[0m\u001b[1;33m,\u001b[0m \u001b[1;34m'100'\u001b[0m\u001b[1;33m)\u001b[0m\u001b[1;33m\u001b[0m\u001b[1;33m\u001b[0m\u001b[0m\n\u001b[0m\u001b[0;32m      2\u001b[0m \u001b[0mdf_1\u001b[0m\u001b[1;33m.\u001b[0m\u001b[0mhead\u001b[0m\u001b[1;33m(\u001b[0m\u001b[1;33m)\u001b[0m\u001b[1;33m\u001b[0m\u001b[1;33m\u001b[0m\u001b[0m\n",
      "\u001b[1;31mTypeError\u001b[0m: get_tweets() missing 1 required positional argument: 'max_tweets'"
     ]
    }
   ],
   "source": [
    "df_1 = get_tweets('Wisconsin', \"2018-07-18\", \"2019-07-20\", '100') \n",
    "df_1.head()"
   ]
  },
  {
   "cell_type": "code",
   "execution_count": null,
   "id": "6121aef0",
   "metadata": {},
   "outputs": [],
   "source": []
  }
 ],
 "metadata": {
  "kernelspec": {
   "display_name": "Python 3 (ipykernel)",
   "language": "python",
   "name": "python3"
  },
  "language_info": {
   "codemirror_mode": {
    "name": "ipython",
    "version": 3
   },
   "file_extension": ".py",
   "mimetype": "text/x-python",
   "name": "python",
   "nbconvert_exporter": "python",
   "pygments_lexer": "ipython3",
   "version": "3.9.9"
  }
 },
 "nbformat": 4,
 "nbformat_minor": 5
}
